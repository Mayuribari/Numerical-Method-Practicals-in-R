{
 "cells": [
  {
   "cell_type": "markdown",
   "id": "87b1356c",
   "metadata": {},
   "source": [
    "# Numerical Methods  Practical"
   ]
  },
  {
   "cell_type": "markdown",
   "id": "9f7a23ae",
   "metadata": {},
   "source": [
    "# 1. Bisection Method"
   ]
  },
  {
   "cell_type": "code",
   "execution_count": 1,
   "id": "caa5179d",
   "metadata": {},
   "outputs": [],
   "source": [
    "# Defining Function\n",
    "def f(x):\n",
    "    return x**3-2*x-5"
   ]
  },
  {
   "cell_type": "code",
   "execution_count": 2,
   "id": "c3465c9c",
   "metadata": {},
   "outputs": [
    {
     "name": "stdout",
     "output_type": "stream",
     "text": [
      "First Guess: 1\n",
      "Second Guess: 3\n",
      "Tolerable Error: 0.00001\n",
      "\n",
      "\n",
      "*** BISECTION METHOD IMPLEMENTATION ***\n",
      "Iteration-1, x2 = 2.000000 and f(x2) = -1.000000\n",
      "Iteration-2, x2 = 2.500000 and f(x2) = 5.625000\n",
      "Iteration-3, x2 = 2.250000 and f(x2) = 1.890625\n",
      "Iteration-4, x2 = 2.125000 and f(x2) = 0.345703\n",
      "Iteration-5, x2 = 2.062500 and f(x2) = -0.351318\n",
      "Iteration-6, x2 = 2.093750 and f(x2) = -0.008942\n",
      "Iteration-7, x2 = 2.109375 and f(x2) = 0.166836\n",
      "Iteration-8, x2 = 2.101562 and f(x2) = 0.078562\n",
      "Iteration-9, x2 = 2.097656 and f(x2) = 0.034714\n",
      "Iteration-10, x2 = 2.095703 and f(x2) = 0.012862\n",
      "Iteration-11, x2 = 2.094727 and f(x2) = 0.001954\n",
      "Iteration-12, x2 = 2.094238 and f(x2) = -0.003495\n",
      "Iteration-13, x2 = 2.094482 and f(x2) = -0.000771\n",
      "Iteration-14, x2 = 2.094604 and f(x2) = 0.000592\n",
      "Iteration-15, x2 = 2.094543 and f(x2) = -0.000090\n",
      "Iteration-16, x2 = 2.094574 and f(x2) = 0.000251\n",
      "Iteration-17, x2 = 2.094559 and f(x2) = 0.000081\n",
      "Iteration-18, x2 = 2.094551 and f(x2) = -0.000004\n",
      "\n",
      "Required Root is : 2.09455109\n"
     ]
    }
   ],
   "source": [
    "# Implementing Bisection Method\n",
    "def bisection(x0,x1,e):\n",
    "    step = 1\n",
    "    print('\\n\\n*** BISECTION METHOD IMPLEMENTATION ***')\n",
    "    condition = True\n",
    "    while condition:\n",
    "        x2 = (x0 + x1)/2\n",
    "        print('Iteration-%d, x2 = %0.6f and f(x2) = %0.6f' % (step, x2, f(x2)))\n",
    "\n",
    "        if f(x0) * f(x2) < 0:\n",
    "            x1 = x2\n",
    "        else:\n",
    "            x0 = x2\n",
    "        \n",
    "        step = step + 1\n",
    "        condition = abs(f(x2)) > e\n",
    "\n",
    "    print('\\nRequired Root is : %0.8f' % x2)\n",
    "\n",
    "\n",
    "# Input Section\n",
    "x0 = input('First Guess: ')\n",
    "x1 = input('Second Guess: ')\n",
    "e = input('Tolerable Error: ')\n",
    "\n",
    "# Converting input to float\n",
    "x0 = float(x0)\n",
    "x1 = float(x1)\n",
    "e = float(e)\n",
    "\n",
    "#Note: You can combine above two section like this\n",
    "# x0 = float(input('First Guess: '))\n",
    "# x1 = float(input('Second Guess: '))\n",
    "# e = float(input('Tolerable Error: '))\n",
    "\n",
    "\n",
    "# Checking Correctness of initial guess values and bisecting\n",
    "if f(x0) * f(x1) > 0.0:\n",
    "    print('Given guess values do not bracket the root.')\n",
    "    print('Try Again with different guess values.')\n",
    "else:\n",
    "    bisection(x0,x1,e)"
   ]
  },
  {
   "cell_type": "markdown",
   "id": "9a21dd3d",
   "metadata": {},
   "source": [
    "# 2. Regula Falsi Method"
   ]
  },
  {
   "cell_type": "code",
   "execution_count": 3,
   "id": "3fd0a660",
   "metadata": {},
   "outputs": [],
   "source": [
    "# Defining Function\n",
    "def f(x):\n",
    "    return x**3-5*x+1"
   ]
  },
  {
   "cell_type": "code",
   "execution_count": 4,
   "id": "ab8c15ff",
   "metadata": {},
   "outputs": [
    {
     "name": "stdout",
     "output_type": "stream",
     "text": [
      "First Guess: 0\n",
      "Second Guess: 1\n",
      "Tolerable Error: 0.00001\n",
      "\n",
      "\n",
      "*** FALSE POSITION METHOD IMPLEMENTATION ***\n",
      "Iteration-1, x2 = 0.250000 and f(x2) = -0.234375\n",
      "Iteration-2, x2 = 0.202532 and f(x2) = -0.004351\n",
      "Iteration-3, x2 = 0.201654 and f(x2) = -0.000072\n",
      "Iteration-4, x2 = 0.201640 and f(x2) = -0.000001\n",
      "\n",
      "Required root is: 0.20163992\n"
     ]
    }
   ],
   "source": [
    "# Implementing False Position Method\n",
    "def falsePosition(x0,x1,e):\n",
    "    step = 1\n",
    "    print('\\n\\n*** FALSE POSITION METHOD IMPLEMENTATION ***')\n",
    "    condition = True\n",
    "    while condition:\n",
    "        x2 = x0 - (x1-x0) * f(x0)/( f(x1) - f(x0) )\n",
    "        print('Iteration-%d, x2 = %0.6f and f(x2) = %0.6f' % (step, x2, f(x2)))\n",
    "\n",
    "        if f(x0) * f(x2) < 0:\n",
    "            x1 = x2\n",
    "        else:\n",
    "            x0 = x2\n",
    "\n",
    "        step = step + 1\n",
    "        condition = abs(f(x2)) > e\n",
    "\n",
    "    print('\\nRequired root is: %0.8f' % x2)\n",
    "    \n",
    " # Input Section\n",
    "x0 = input('First Guess: ')\n",
    "x1 = input('Second Guess: ')\n",
    "e = input('Tolerable Error: ')\n",
    "# Converting input to float\n",
    "x0 = float(x0)\n",
    "x1 = float(x1)\n",
    "e = float(e)\n",
    "\n",
    "# Checking Correctness of initial guess values and false positioning\n",
    "if f(x0) * f(x1) > 0.0:\n",
    "    print('Given guess values do not bracket the root.')\n",
    "    print('Try Again with different guess values.')\n",
    "else:\n",
    "    falsePosition(x0,x1,e)   \n",
    "    \n",
    "    \n",
    "    "
   ]
  },
  {
   "cell_type": "markdown",
   "id": "1802a91b",
   "metadata": {},
   "source": [
    "# 3. Newton Raphson Method"
   ]
  },
  {
   "cell_type": "code",
   "execution_count": 6,
   "id": "d0c89107",
   "metadata": {},
   "outputs": [],
   "source": [
    "# Defining Function\n",
    "def f(x):\n",
    "    return x**2 -4*x -7"
   ]
  },
  {
   "cell_type": "code",
   "execution_count": 7,
   "id": "f21ad1f7",
   "metadata": {},
   "outputs": [],
   "source": [
    "# Defining derivative of function\n",
    "def g(x):\n",
    "    return 2*x-4"
   ]
  },
  {
   "cell_type": "code",
   "execution_count": 8,
   "id": "bbccb83b",
   "metadata": {},
   "outputs": [
    {
     "name": "stdout",
     "output_type": "stream",
     "text": [
      "Enter Guess: 5\n",
      "Tolerable Error: 0.00001\n",
      "Maximum Step: 100\n",
      "\n",
      "\n",
      "*** NEWTON RAPHSON METHOD IMPLEMENTATION ***\n",
      "Iteration-1, x1 = 5.333333 and f(x1) = 0.111111\n",
      "Iteration-2, x1 = 5.316667 and f(x1) = 0.000278\n",
      "Iteration-3, x1 = 5.316625 and f(x1) = 0.000000\n",
      "\n",
      "Required root is: 5.31662479\n"
     ]
    }
   ],
   "source": [
    "# Implementing Newton Raphson Method\n",
    "def newtonRaphson(x0,e,N):\n",
    "    print('\\n\\n*** NEWTON RAPHSON METHOD IMPLEMENTATION ***')\n",
    "    step = 1\n",
    "    flag = 1\n",
    "    condition = True\n",
    "    while condition:\n",
    "        if g(x0) == 0.0:\n",
    "            print('Divide by zero error!')\n",
    "            break\n",
    "        \n",
    "        x1 = x0 - f(x0)/g(x0)\n",
    "        print('Iteration-%d, x1 = %0.6f and f(x1) = %0.6f' % (step, x1, f(x1)))\n",
    "        x0 = x1\n",
    "        step = step + 1\n",
    "        \n",
    "        if step > N:\n",
    "            flag = 0\n",
    "            break\n",
    "        \n",
    "        condition = abs(f(x1)) > e\n",
    "    \n",
    "    if flag==1:\n",
    "        print('\\nRequired root is: %0.8f' % x1)\n",
    "    else:\n",
    "        print('\\nNot Convergent.')\n",
    "x0 = input('Enter Guess: ')\n",
    "e = input('Tolerable Error: ')\n",
    "N = input('Maximum Step: ')\n",
    "x0 = float(x0)\n",
    "e = float(e)\n",
    "N = int(N)\n",
    "newtonRaphson(x0,e,N)"
   ]
  },
  {
   "cell_type": "markdown",
   "id": "174cb4e6",
   "metadata": {},
   "source": [
    "# Linear sysytem of algebric equations"
   ]
  },
  {
   "cell_type": "markdown",
   "id": "36e9db80",
   "metadata": {},
   "source": [
    "# Direct Method"
   ]
  },
  {
   "cell_type": "markdown",
   "id": "a3962018",
   "metadata": {},
   "source": [
    "# 1. Gauss Elimination Method"
   ]
  },
  {
   "cell_type": "code",
   "execution_count": 10,
   "id": "56cc2d10",
   "metadata": {},
   "outputs": [],
   "source": [
    "# Importing NumPy Library\n",
    "import numpy as np\n",
    "import sys"
   ]
  },
  {
   "cell_type": "code",
   "execution_count": 15,
   "id": "20691b1c",
   "metadata": {},
   "outputs": [
    {
     "name": "stdout",
     "output_type": "stream",
     "text": [
      "Enter number of unknowns: 3\n",
      "Enter Augmented Matrix Coefficients:\n",
      "a[0][0]=1\n",
      "a[0][1]=2\n",
      "a[0][2]=5\n",
      "a[0][3]=7\n",
      "a[1][0]=1\n",
      "a[1][1]=-2\n",
      "a[1][2]=2\n",
      "a[1][3]=2\n",
      "a[2][0]=3\n",
      "a[2][1]=8\n",
      "a[2][2]=7\n",
      "a[2][3]=6\n",
      "\n",
      "Required solution is: \n",
      "X0 = -1.95\tX1 = -0.13\tX2 = 1.84\t"
     ]
    }
   ],
   "source": [
    "n = int(input('Enter number of unknowns: '))\n",
    "a = np.zeros((n,n+1))\n",
    "x = np.zeros(n)\n",
    "print('Enter Augmented Matrix Coefficients:')\n",
    "for i in range(n):\n",
    "    for j in range(n+1):\n",
    "        a[i][j] = float(input( 'a['+str(i)+']['+ str(j)+']='))\n",
    "for i in range(n):\n",
    "    if a[i][i] == 0.0:\n",
    "        sys.exit('Divide by zero detected!')\n",
    "        \n",
    "    for j in range(i+1, n):\n",
    "        ratio = a[j][i]/a[i][i]\n",
    "        \n",
    "        for k in range(n+1):\n",
    "            a[j][k] = a[j][k] - ratio * a[i][k]\n",
    "x[n-1] = a[n-1][n]/a[n-1][n-1]\n",
    "\n",
    "for i in range(n-2,-1,-1):\n",
    "    x[i] = a[i][n]\n",
    "    \n",
    "    for j in range(i+1,n):\n",
    "        x[i] = x[i] - a[i][j]*x[j]\n",
    "    \n",
    "    x[i] = x[i]/a[i][i]\n",
    "\n",
    "\n",
    "print('\\nRequired solution is: ')\n",
    "for i in range(n):\n",
    "    print('X%d = %0.2f' %(i,x[i]), end = '\\t')"
   ]
  },
  {
   "cell_type": "markdown",
   "id": "a00ef4aa",
   "metadata": {},
   "source": [
    "# 2. Gauss Jordan Method"
   ]
  },
  {
   "cell_type": "code",
   "execution_count": null,
   "id": "808e9de1",
   "metadata": {},
   "outputs": [],
   "source": [
    "# Importing NumPy Library\n",
    "import numpy as np\n",
    "import sys"
   ]
  },
  {
   "cell_type": "code",
   "execution_count": 17,
   "id": "b80840c2",
   "metadata": {},
   "outputs": [
    {
     "name": "stdout",
     "output_type": "stream",
     "text": [
      "Enter number of unknowns: 3\n",
      "Enter Augmented Matrix Coefficients:\n",
      "a[0][0]=1\n",
      "a[0][1]=1\n",
      "a[0][2]=1\n",
      "a[0][3]=4\n",
      "a[1][0]=3\n",
      "a[1][1]=-1\n",
      "a[1][2]=3\n",
      "a[1][3]=5\n",
      "a[2][0]=3\n",
      "a[2][1]=3\n",
      "a[2][2]=2\n",
      "a[2][3]=5\n",
      "\n",
      "Required solution is: \n",
      "X0 = -4.75\tX1 = 1.75\tX2 = 7.00\t"
     ]
    }
   ],
   "source": [
    "n = int(input('Enter number of unknowns: '))\n",
    "a = np.zeros((n,n+1))\n",
    "x = np.zeros(n)\n",
    "print('Enter Augmented Matrix Coefficients:')\n",
    "for i in range(n):\n",
    "    for j in range(n+1):\n",
    "        a[i][j] = float(input( 'a['+str(i)+']['+ str(j)+']='))\n",
    "for i in range(n):\n",
    "    if a[i][i] == 0.0:\n",
    "        sys.exit('Divide by zero detected!')\n",
    "        \n",
    "    for j in range(n):\n",
    "        if i != j:\n",
    "            ratio = a[j][i]/a[i][i]\n",
    "\n",
    "            for k in range(n+1):\n",
    "                a[j][k] = a[j][k] - ratio * a[i][k]\n",
    "\n",
    "for i in range(n):\n",
    "    x[i] = a[i][n]/a[i][i]\n",
    "print('\\nRequired solution is: ')\n",
    "for i in range(n):\n",
    "    print('X%d = %0.2f' %(i,x[i]), end = '\\t')"
   ]
  },
  {
   "cell_type": "markdown",
   "id": "15dfb469",
   "metadata": {},
   "source": [
    "# Iterative Method"
   ]
  },
  {
   "cell_type": "markdown",
   "id": "27bef8ab",
   "metadata": {},
   "source": [
    "# 1. Gauss Jacobi Iterative Method"
   ]
  },
  {
   "cell_type": "code",
   "execution_count": null,
   "id": "5a570b71",
   "metadata": {},
   "outputs": [],
   "source": [
    "# Importing NumPy Library\n",
    "import numpy as np\n",
    "import sys"
   ]
  },
  {
   "cell_type": "code",
   "execution_count": 18,
   "id": "162b15bd",
   "metadata": {},
   "outputs": [
    {
     "name": "stdout",
     "output_type": "stream",
     "text": [
      "Enter number of unknowns: 3\n",
      "Enter Augmented Matrix Coefficients:\n",
      "a[0][0]=4\n",
      "a[0][1]=1\n",
      "a[0][2]=1\n",
      "a[0][3]=1\n",
      "a[1][0]=5\n",
      "a[1][1]=2\n",
      "a[1][2]=1\n",
      "a[1][3]=2\n",
      "a[2][0]=3\n",
      "a[2][1]=2\n",
      "a[2][2]=-6\n",
      "a[2][3]=-4\n",
      "\n",
      "Required solution is: \n",
      "X0 = -0.32\tX1 = 1.32\tX2 = 0.95\t"
     ]
    }
   ],
   "source": [
    "n = int(input('Enter number of unknowns: '))\n",
    "a = np.zeros((n,n+1))\n",
    "x = np.zeros(n)\n",
    "print('Enter Augmented Matrix Coefficients:')\n",
    "for i in range(n):\n",
    "    for j in range(n+1):\n",
    "        a[i][j] = float(input( 'a['+str(i)+']['+ str(j)+']='))\n",
    "for i in range(n):\n",
    "    if a[i][i] == 0.0:\n",
    "        sys.exit('Divide by zero detected!')\n",
    "        \n",
    "    for j in range(n):\n",
    "        if i != j:\n",
    "            ratio = a[j][i]/a[i][i]\n",
    "\n",
    "            for k in range(n+1):\n",
    "                a[j][k] = a[j][k] - ratio * a[i][k]\n",
    "\n",
    "for i in range(n):\n",
    "    x[i] = a[i][n]/a[i][i]\n",
    "print('\\nRequired solution is: ')\n",
    "for i in range(n):\n",
    "    print('X%d = %0.2f' %(i,x[i]), end = '\\t')"
   ]
  },
  {
   "cell_type": "markdown",
   "id": "8ac80b98",
   "metadata": {},
   "source": [
    "# Trapezoidal Rule"
   ]
  },
  {
   "cell_type": "code",
   "execution_count": 19,
   "id": "e07a75f2",
   "metadata": {},
   "outputs": [
    {
     "name": "stdout",
     "output_type": "stream",
     "text": [
      "Enter lower limit of integration: 1\n",
      "Enter upper limit of integration: 2\n",
      "Enter number of sub intervals: 20\n",
      "Integration result by Trapezoidal method is: 0.106156\n"
     ]
    }
   ],
   "source": [
    "# Trapezoidal Method\n",
    "\n",
    "# Define function to integrate\n",
    "def f(x):\n",
    "    return 1/(5+3*x)\n",
    "\n",
    "# Implementing trapezoidal method\n",
    "def trapezoidal(x0,xn,n):\n",
    "    # calculating step size\n",
    "    h = (xn - x0) / n\n",
    "    \n",
    "    # Finding sum \n",
    "    integration = f(x0) + f(xn)\n",
    "    \n",
    "    for i in range(1,n):\n",
    "        k = x0 + i*h\n",
    "        integration = integration + 2 * f(k)\n",
    "    \n",
    "    # Finding final integration value\n",
    "    integration = integration * h/2\n",
    "    \n",
    "    return integration\n",
    "    \n",
    "# Input section\n",
    "lower_limit = float(input(\"Enter lower limit of integration: \"))\n",
    "upper_limit = float(input(\"Enter upper limit of integration: \"))\n",
    "sub_interval = int(input(\"Enter number of sub intervals: \"))\n",
    "\n",
    "# Call trapezoidal() method and get result\n",
    "result = trapezoidal(lower_limit, upper_limit, sub_interval)\n",
    "print(\"Integration result by Trapezoidal method is: %0.6f\" % (result) )"
   ]
  },
  {
   "cell_type": "markdown",
   "id": "4ca51927",
   "metadata": {},
   "source": [
    "# Simpson's 1/3 Rule"
   ]
  },
  {
   "cell_type": "code",
   "execution_count": 20,
   "id": "56cf19a8",
   "metadata": {},
   "outputs": [
    {
     "name": "stdout",
     "output_type": "stream",
     "text": [
      "Enter lower limit of integration: 0\n",
      "Enter upper limit of integration: 1\n",
      "Enter number of sub intervals: 6\n",
      "Integration result by Simpson's 1/3 method is: 0.693170\n"
     ]
    }
   ],
   "source": [
    "# Simpson's 1/3 Rule\n",
    "\n",
    "# Define function to integrate\n",
    "def f(x):\n",
    "    return 1/(1+x)\n",
    "\n",
    "# Implementing Simpson's 1/3 \n",
    "def simpson13(x0,xn,n):\n",
    "    # calculating step size\n",
    "    h = (xn - x0) / n\n",
    "    \n",
    "    # Finding sum \n",
    "    integration = f(x0) + f(xn)\n",
    "    \n",
    "    for i in range(1,n):\n",
    "        k = x0 + i*h\n",
    "        \n",
    "        if i%2 == 0:\n",
    "            integration = integration + 2 * f(k)\n",
    "        else:\n",
    "            integration = integration + 4 * f(k)\n",
    "    \n",
    "    # Finding final integration value\n",
    "    integration = integration * h/3\n",
    "    \n",
    "    return integration\n",
    "    \n",
    "# Input section\n",
    "lower_limit = float(input(\"Enter lower limit of integration: \"))\n",
    "upper_limit = float(input(\"Enter upper limit of integration: \"))\n",
    "sub_interval = int(input(\"Enter number of sub intervals: \"))\n",
    "\n",
    "# Call trapezoidal() method and get result\n",
    "result = simpson13(lower_limit, upper_limit, sub_interval)\n",
    "print(\"Integration result by Simpson's 1/3 method is: %0.6f\" % (result) )"
   ]
  },
  {
   "cell_type": "markdown",
   "id": "db9a9bf8",
   "metadata": {},
   "source": [
    "# Simpson's 3/8 Rule"
   ]
  },
  {
   "cell_type": "code",
   "execution_count": 21,
   "id": "415e439b",
   "metadata": {},
   "outputs": [
    {
     "name": "stdout",
     "output_type": "stream",
     "text": [
      "Enter lower limit of integration: 0\n",
      "Enter upper limit of integration: 1\n",
      "Enter number of sub intervals: 6\n",
      "Integration result by Simpson's 3/8 method is: 0.735877\n"
     ]
    }
   ],
   "source": [
    "# Simpson's 3/8 Rule\n",
    "\n",
    "# Define function to integrate\n",
    "def f(x):\n",
    "    return 1/(1 + x**2)\n",
    "\n",
    "# Implementing Simpson's 3/8\n",
    "def simpson38(x0,xn,n):\n",
    "    # calculating step size\n",
    "    h = (xn - x0) / n\n",
    "    \n",
    "    # Finding sum \n",
    "    integration = f(x0) + f(xn)\n",
    "    \n",
    "    for i in range(1,n):\n",
    "        k = x0 + i*h\n",
    "        \n",
    "        if i%2 == 0:\n",
    "            integration = integration + 2 * f(k)\n",
    "        else:\n",
    "            integration = integration + 3 * f(k)\n",
    "    \n",
    "    # Finding final integration value\n",
    "    integration = integration * 3 * h / 8\n",
    "    \n",
    "    return integration\n",
    "    \n",
    "# Input section\n",
    "lower_limit = float(input(\"Enter lower limit of integration: \"))\n",
    "upper_limit = float(input(\"Enter upper limit of integration: \"))\n",
    "sub_interval = int(input(\"Enter number of sub intervals: \"))\n",
    "\n",
    "# Call trapezoidal() method and get result\n",
    "result = simpson38(lower_limit, upper_limit, sub_interval)\n",
    "print(\"Integration result by Simpson's 3/8 method is: %0.6f\" % (result) )"
   ]
  },
  {
   "cell_type": "code",
   "execution_count": null,
   "id": "c12d35c1",
   "metadata": {},
   "outputs": [],
   "source": []
  }
 ],
 "metadata": {
  "kernelspec": {
   "display_name": "Python 3 (ipykernel)",
   "language": "python",
   "name": "python3"
  },
  "language_info": {
   "codemirror_mode": {
    "name": "ipython",
    "version": 3
   },
   "file_extension": ".py",
   "mimetype": "text/x-python",
   "name": "python",
   "nbconvert_exporter": "python",
   "pygments_lexer": "ipython3",
   "version": "3.10.2"
  }
 },
 "nbformat": 4,
 "nbformat_minor": 5
}
